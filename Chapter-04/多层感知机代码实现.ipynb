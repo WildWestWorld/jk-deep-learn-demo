{
 "cells": [
  {
   "cell_type": "code",
   "execution_count": 2,
   "id": "0b766fe0",
   "metadata": {},
   "outputs": [],
   "source": [
    "# 导包\n",
    "import torch\n",
    "from torchvision import datasets\n",
    "from torchvision import transforms\n",
    "import torch.nn as nn \n",
    "import torch.optim as optim"
   ]
  },
  {
   "cell_type": "markdown",
   "id": "f32c4d1b",
   "metadata": {},
   "source": [
    "## data 获取MNIST数据集，也就是手写数字数据集"
   ]
  },
  {
   "cell_type": "code",
   "execution_count": 3,
   "id": "507db569",
   "metadata": {},
   "outputs": [
    {
     "name": "stdout",
     "output_type": "stream",
     "text": [
      "Downloading http://yann.lecun.com/exdb/mnist/train-images-idx3-ubyte.gz\n",
      "Failed to download (trying next):\n",
      "HTTP Error 403: Forbidden\n",
      "\n",
      "Downloading https://ossci-datasets.s3.amazonaws.com/mnist/train-images-idx3-ubyte.gz\n",
      "Downloading https://ossci-datasets.s3.amazonaws.com/mnist/train-images-idx3-ubyte.gz to data/mnist\\MNIST\\raw\\train-images-idx3-ubyte.gz\n"
     ]
    },
    {
     "name": "stderr",
     "output_type": "stream",
     "text": [
      "100%|███████████████████████████████████████████████████████████████████| 9912422/9912422 [00:09<00:00, 1050341.70it/s]\n"
     ]
    },
    {
     "name": "stdout",
     "output_type": "stream",
     "text": [
      "Extracting data/mnist\\MNIST\\raw\\train-images-idx3-ubyte.gz to data/mnist\\MNIST\\raw\n",
      "\n",
      "Downloading http://yann.lecun.com/exdb/mnist/train-labels-idx1-ubyte.gz\n",
      "Failed to download (trying next):\n",
      "HTTP Error 403: Forbidden\n",
      "\n",
      "Downloading https://ossci-datasets.s3.amazonaws.com/mnist/train-labels-idx1-ubyte.gz\n",
      "Downloading https://ossci-datasets.s3.amazonaws.com/mnist/train-labels-idx1-ubyte.gz to data/mnist\\MNIST\\raw\\train-labels-idx1-ubyte.gz\n"
     ]
    },
    {
     "name": "stderr",
     "output_type": "stream",
     "text": [
      "100%|████████████████████████████████████████████████████████████████████████| 28881/28881 [00:00<00:00, 618620.00it/s]\n"
     ]
    },
    {
     "name": "stdout",
     "output_type": "stream",
     "text": [
      "Extracting data/mnist\\MNIST\\raw\\train-labels-idx1-ubyte.gz to data/mnist\\MNIST\\raw\n",
      "\n",
      "Downloading http://yann.lecun.com/exdb/mnist/t10k-images-idx3-ubyte.gz\n",
      "Failed to download (trying next):\n",
      "HTTP Error 403: Forbidden\n",
      "\n",
      "Downloading https://ossci-datasets.s3.amazonaws.com/mnist/t10k-images-idx3-ubyte.gz\n",
      "Downloading https://ossci-datasets.s3.amazonaws.com/mnist/t10k-images-idx3-ubyte.gz to data/mnist\\MNIST\\raw\\t10k-images-idx3-ubyte.gz\n"
     ]
    },
    {
     "name": "stderr",
     "output_type": "stream",
     "text": [
      "100%|███████████████████████████████████████████████████████████████████| 1648877/1648877 [00:00<00:00, 1990535.14it/s]\n"
     ]
    },
    {
     "name": "stdout",
     "output_type": "stream",
     "text": [
      "Extracting data/mnist\\MNIST\\raw\\t10k-images-idx3-ubyte.gz to data/mnist\\MNIST\\raw\n",
      "\n",
      "Downloading http://yann.lecun.com/exdb/mnist/t10k-labels-idx1-ubyte.gz\n",
      "Failed to download (trying next):\n",
      "HTTP Error 403: Forbidden\n",
      "\n",
      "Downloading https://ossci-datasets.s3.amazonaws.com/mnist/t10k-labels-idx1-ubyte.gz\n",
      "Downloading https://ossci-datasets.s3.amazonaws.com/mnist/t10k-labels-idx1-ubyte.gz to data/mnist\\MNIST\\raw\\t10k-labels-idx1-ubyte.gz\n"
     ]
    },
    {
     "name": "stderr",
     "output_type": "stream",
     "text": [
      "100%|█████████████████████████████████████████████████████████████████████████| 4542/4542 [00:00<00:00, 1428075.62it/s]"
     ]
    },
    {
     "name": "stdout",
     "output_type": "stream",
     "text": [
      "Extracting data/mnist\\MNIST\\raw\\t10k-labels-idx1-ubyte.gz to data/mnist\\MNIST\\raw\n",
      "\n"
     ]
    },
    {
     "name": "stderr",
     "output_type": "stream",
     "text": [
      "\n"
     ]
    }
   ],
   "source": [
    "train_data = datasets.MNIST(root=\"data/mnist\",train=True,transform=transforms.ToTensor(),download=True)\n",
    "test_data = datasets.MNIST(root=\"data/mnist\",train=False,transform=transforms.ToTensor(),download=True)"
   ]
  },
  {
   "cell_type": "code",
   "execution_count": 4,
   "id": "1d01ab34",
   "metadata": {},
   "outputs": [],
   "source": [
    "#抽样训练\n",
    "batch_size = 100\n",
    "#加载数据集(shuffle=True打乱)\n",
    "train_loader = torch.utils.data.DataLoader(dataset=train_data,batch_size=batch_size,shuffle=True)\n",
    "#加载测试集\n",
    "test_loader = torch.utils.data.DataLoader(dataset=test_data,batch_size=batch_size,shuffle=False)"
   ]
  },
  {
   "cell_type": "markdown",
   "id": "3862ea5d",
   "metadata": {},
   "source": [
    "## net(定义网络)"
   ]
  },
  {
   "cell_type": "code",
   "execution_count": 5,
   "id": "4f86e0eb",
   "metadata": {},
   "outputs": [],
   "source": [
    "# 定义 MLP 网络  继承nn.Module\n",
    "class MLP(nn.Module):\n",
    "    \n",
    "    # 初始化方法\n",
    "    # input_size输入数据的维度    \n",
    "    # hidden_size 隐藏层的大小\n",
    "    # num_classes 输出分类的数量\n",
    "    def __init__(self, input_size, hidden_size, num_classes):\n",
    "        # 调用父类的初始化方法\n",
    "        super(MLP, self).__init__()\n",
    "        # 定义第1个全连接层  \n",
    "        self.fc1 = nn.Linear(input_size, hidden_size)\n",
    "        # 定义激活函数\n",
    "        self.relu = nn.ReLU()\n",
    "        # 定义第2个全连接层 将第一个隐藏层的输出映射到另一个隐藏层。\n",
    "        self.fc2 = nn.Linear(hidden_size, hidden_size)\n",
    "        # 定义第3个全连接层  ，将第二个隐藏层的输出映射到输出层（类别数）。\n",
    "        self.fc3 = nn.Linear(hidden_size, num_classes)\n",
    "        \n",
    "    # 定义forward函数\n",
    "    # x 输入的数据\n",
    "    #这里会被默认调用\n",
    "    def forward(self, x):\n",
    "        # 第一层运算\n",
    "        out = self.fc1(x)\n",
    "        # 将上一步结果送给激活函数\n",
    "        out = self.relu(out)\n",
    "        # 将上一步结果送给fc2\n",
    "        out = self.fc2(out)\n",
    "        # 同样将结果送给激活函数\n",
    "        out = self.relu(out)\n",
    "        # 将上一步结果传递给fc3\n",
    "        out = self.fc3(out)\n",
    "        # 返回结果\n",
    "        return out\n",
    "    \n",
    "# 定义参数    \n",
    "input_size = 28 * 28  # 输入大小\n",
    "hidden_size = 512  # 隐藏层大小\n",
    "num_classes = 10  # 输出大小（类别数） \n",
    "\n",
    "# 初始化MLP    \n",
    "#初始化的时候 就会调用_init方法\n",
    "model = MLP(input_size, hidden_size, num_classes)"
   ]
  },
  {
   "cell_type": "markdown",
   "id": "6d3a1ae6",
   "metadata": {},
   "source": [
    "## loss(分类问题采用 交叉熵损失函数)"
   ]
  },
  {
   "cell_type": "code",
   "execution_count": 6,
   "id": "6f7329fe",
   "metadata": {},
   "outputs": [],
   "source": [
    "criterion = nn.CrossEntropyLoss()"
   ]
  },
  {
   "cell_type": "markdown",
   "id": "1cd81a0b",
   "metadata": {},
   "source": [
    "## optim（Adam算法）"
   ]
  },
  {
   "cell_type": "code",
   "execution_count": 7,
   "id": "f1d15bf4",
   "metadata": {},
   "outputs": [],
   "source": [
    "learning_rate = 0.001 # 学习率\n",
    "optimizer = optim.Adam(model.parameters(),lr=learning_rate)"
   ]
  },
  {
   "cell_type": "markdown",
   "id": "6dd0df25",
   "metadata": {},
   "source": [
    "## training"
   ]
  },
  {
   "cell_type": "code",
   "execution_count": 8,
   "id": "ec0d291a",
   "metadata": {},
   "outputs": [
    {
     "name": "stdout",
     "output_type": "stream",
     "text": [
      "Epoch [1/10], Step [100/600], Loss: 0.3141\n",
      "Epoch [1/10], Step [200/600], Loss: 0.2857\n",
      "Epoch [1/10], Step [300/600], Loss: 0.1945\n",
      "Epoch [1/10], Step [400/600], Loss: 0.2124\n",
      "Epoch [1/10], Step [500/600], Loss: 0.0722\n",
      "Epoch [1/10], Step [600/600], Loss: 0.1816\n",
      "Epoch [2/10], Step [100/600], Loss: 0.0880\n",
      "Epoch [2/10], Step [200/600], Loss: 0.0854\n",
      "Epoch [2/10], Step [300/600], Loss: 0.1117\n",
      "Epoch [2/10], Step [400/600], Loss: 0.0734\n",
      "Epoch [2/10], Step [500/600], Loss: 0.0809\n",
      "Epoch [2/10], Step [600/600], Loss: 0.0286\n",
      "Epoch [3/10], Step [100/600], Loss: 0.0516\n",
      "Epoch [3/10], Step [200/600], Loss: 0.0543\n",
      "Epoch [3/10], Step [300/600], Loss: 0.0693\n",
      "Epoch [3/10], Step [400/600], Loss: 0.0668\n",
      "Epoch [3/10], Step [500/600], Loss: 0.0512\n",
      "Epoch [3/10], Step [600/600], Loss: 0.0546\n",
      "Epoch [4/10], Step [100/600], Loss: 0.0251\n",
      "Epoch [4/10], Step [200/600], Loss: 0.0853\n",
      "Epoch [4/10], Step [300/600], Loss: 0.0305\n",
      "Epoch [4/10], Step [400/600], Loss: 0.0802\n",
      "Epoch [4/10], Step [500/600], Loss: 0.0440\n",
      "Epoch [4/10], Step [600/600], Loss: 0.0662\n",
      "Epoch [5/10], Step [100/600], Loss: 0.0400\n",
      "Epoch [5/10], Step [200/600], Loss: 0.0617\n",
      "Epoch [5/10], Step [300/600], Loss: 0.0058\n",
      "Epoch [5/10], Step [400/600], Loss: 0.0234\n",
      "Epoch [5/10], Step [500/600], Loss: 0.0377\n",
      "Epoch [5/10], Step [600/600], Loss: 0.0306\n",
      "Epoch [6/10], Step [100/600], Loss: 0.0250\n",
      "Epoch [6/10], Step [200/600], Loss: 0.0068\n",
      "Epoch [6/10], Step [300/600], Loss: 0.0195\n",
      "Epoch [6/10], Step [400/600], Loss: 0.0394\n",
      "Epoch [6/10], Step [500/600], Loss: 0.0287\n",
      "Epoch [6/10], Step [600/600], Loss: 0.0017\n",
      "Epoch [7/10], Step [100/600], Loss: 0.0108\n",
      "Epoch [7/10], Step [200/600], Loss: 0.0105\n",
      "Epoch [7/10], Step [300/600], Loss: 0.0308\n",
      "Epoch [7/10], Step [400/600], Loss: 0.0575\n",
      "Epoch [7/10], Step [500/600], Loss: 0.0117\n",
      "Epoch [7/10], Step [600/600], Loss: 0.0179\n",
      "Epoch [8/10], Step [100/600], Loss: 0.0039\n",
      "Epoch [8/10], Step [200/600], Loss: 0.0014\n",
      "Epoch [8/10], Step [300/600], Loss: 0.0241\n",
      "Epoch [8/10], Step [400/600], Loss: 0.0028\n",
      "Epoch [8/10], Step [500/600], Loss: 0.0712\n",
      "Epoch [8/10], Step [600/600], Loss: 0.0075\n",
      "Epoch [9/10], Step [100/600], Loss: 0.0034\n",
      "Epoch [9/10], Step [200/600], Loss: 0.0005\n",
      "Epoch [9/10], Step [300/600], Loss: 0.0464\n",
      "Epoch [9/10], Step [400/600], Loss: 0.0144\n",
      "Epoch [9/10], Step [500/600], Loss: 0.0115\n",
      "Epoch [9/10], Step [600/600], Loss: 0.0091\n",
      "Epoch [10/10], Step [100/600], Loss: 0.0033\n",
      "Epoch [10/10], Step [200/600], Loss: 0.0278\n",
      "Epoch [10/10], Step [300/600], Loss: 0.0127\n",
      "Epoch [10/10], Step [400/600], Loss: 0.0104\n",
      "Epoch [10/10], Step [500/600], Loss: 0.0286\n",
      "Epoch [10/10], Step [600/600], Loss: 0.0008\n"
     ]
    }
   ],
   "source": [
    "# 训练网络\n",
    "\n",
    "num_epochs = 10 # 训练轮数\n",
    "# 在10学习中 这些参数会进行变化，让模型更好\n",
    "# self.fc1.weight 和 self.fc1.bias 是第一个全连接层的权重和偏置参数。\n",
    "# self.fc2.weight 和 self.fc2.bias 是第二个全连接层的权重和偏置参数。\n",
    "# self.fc3.weight 和 self.fc3.bias 是第三个全连接层的权重和偏置参数。\n",
    "\n",
    "for epoch in range(num_epochs):\n",
    "    # enumerate：这是Python的一个内置函数，它会在遍历train_loader的过程中，同时返回当前批次的索引（i）和数据（images和labels）。\n",
    "    for i, (images, labels) in enumerate(train_loader):\n",
    "        # 将iamges转成向量\n",
    "        images = images.reshape(-1, 28 * 28)\n",
    "        # 将数据送到网络中\n",
    "\n",
    "        # 隐式调用 __call__ 方法：\n",
    "        \n",
    "        # 当你写 outputs = model(images) 时，Python 实际上调用了 model.__call__(images)。\n",
    "        # 在 PyTorch 的 nn.Module 中，__call__ 方法内部会调用模型类中的 forward 方法。\n",
    "        #传入的参数是x 而不是self\n",
    "        outputs = model(images)\n",
    "        # 计算损失\n",
    "        loss = criterion(outputs, labels)\n",
    "        \n",
    "        # 首先将梯度清零\n",
    "        optimizer.zero_grad()\n",
    "        # 反向传播\n",
    "        loss.backward()\n",
    "        # 更新参数\n",
    "        optimizer.step()\n",
    "        \n",
    "        if (i + 1) % 100 == 0:\n",
    "            print(f'Epoch [{epoch+1}/{num_epochs}], Step [{i+1}/{len(train_loader)}], Loss: {loss.item():.4f}')"
   ]
  },
  {
   "cell_type": "markdown",
   "id": "0e3ffc84",
   "metadata": {},
   "source": [
    "## test"
   ]
  },
  {
   "cell_type": "code",
   "execution_count": 9,
   "id": "565c0019",
   "metadata": {},
   "outputs": [
    {
     "name": "stdout",
     "output_type": "stream",
     "text": [
      "Accuracy of the network on the 10000 test images: 98.17 %\n"
     ]
    }
   ],
   "source": [
    "# 测试网络\n",
    "with torch.no_grad():\n",
    "    correct = 0\n",
    "    total = 0\n",
    "    # 从 test_loader中循环读取测试数据\n",
    "    for images, labels in test_loader:\n",
    "        # 将images转成向量\n",
    "        images = images.reshape(-1, 28 * 28)\n",
    "        # 将数据送给网络\n",
    "        outputs = model(images)\n",
    "        # 取出最大值对应的索引  即预测值\n",
    "        # torch.max(input, dim, keepdim=False, out=None)\n",
    "        # input：输入的张量，可以是一个或多个维度。\n",
    "        # dim：指定沿着哪个维度计算最大值。例如，如果 dim=1，则沿着第一个维度（行）计算最大值。\n",
    "        # keepdim：默认为 False，如果设置为 True，结果张量会保留与输入张量相同的维度数，其中减小的维度被设置为大小为1。\n",
    "        # out：可选的输出张量，用于存储计算结果。\n",
    "        _, predicted = torch.max(outputs.data, 1)\n",
    "        # 累加label数\n",
    "        total += labels.size(0)\n",
    "        # 预测值与labels值比对 获取预测正确的数量\n",
    "        \n",
    "        # (predicted == labels) 返回一个布尔张量，其中 True 表示预测正确，False 表示预测错误。\n",
    "        # .sum() 对布尔张量进行求和操作，计算出预测正确的样本数量。\n",
    "        # .item() 将张量的值转换为 Python 中的标量值，得到预测正确的样本数量。\n",
    "        correct += (predicted == labels).sum().item()\n",
    "    # 打印最终的准确率\n",
    "    print(f'Accuracy of the network on the 10000 test images: {100 * correct / total} %')"
   ]
  },
  {
   "cell_type": "markdown",
   "id": "ec351cb8",
   "metadata": {},
   "source": [
    "## save"
   ]
  },
  {
   "cell_type": "code",
   "execution_count": 10,
   "id": "b1f14822",
   "metadata": {},
   "outputs": [],
   "source": [
    "torch.save(model,\"mnist_mlp_model.pkl\")"
   ]
  },
  {
   "cell_type": "code",
   "execution_count": null,
   "id": "fb79ca37-c4c4-46c0-9130-4ed30c4701ed",
   "metadata": {},
   "outputs": [],
   "source": []
  }
 ],
 "metadata": {
  "kernelspec": {
   "display_name": "Python 3 (ipykernel)",
   "language": "python",
   "name": "python3"
  },
  "language_info": {
   "codemirror_mode": {
    "name": "ipython",
    "version": 3
   },
   "file_extension": ".py",
   "mimetype": "text/x-python",
   "name": "python",
   "nbconvert_exporter": "python",
   "pygments_lexer": "ipython3",
   "version": "3.11.9"
  }
 },
 "nbformat": 4,
 "nbformat_minor": 5
}
